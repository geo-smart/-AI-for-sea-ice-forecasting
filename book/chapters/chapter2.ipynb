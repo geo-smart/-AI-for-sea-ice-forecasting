{
  "nbformat": 4,
  "nbformat_minor": 0,
  "metadata": {
    "colab": {
      "name": "Monthly_Polar_Sea_Ice_Prediction_Attention_MLR+LSTM.ipynb",
      "provenance": [],
      "collapsed_sections": []
    },
    "kernelspec": {
      "name": "python3",
      "display_name": "Python 3"
    },
    "accelerator": "GPU"
  },
  "cells": [
    {
      "cell_type": "markdown",
      "metadata": {
        "id": "d0W0GAu4wRJ0"
      },
      "source": [
        "## Sea Ice Prediction - MLR+LSTM"
      ]
    },
    {
      "cell_type": "code",
      "metadata": {
        "id": "XpImo-RyFHE5"
      },
      "source": [
        "from numpy.random import seed\n",
        "seed(1)"
      ],
      "execution_count": null,
      "outputs": []
    },
    {
      "cell_type": "code",
      "metadata": {
        "id": "Xj6J2OiifPrz"
      },
      "source": [
        "#Install latest attention package\n",
        "pip install attention"
      ],
      "execution_count": null,
      "outputs": []
    },
    {
      "cell_type": "markdown",
      "metadata": {
        "id": "jdRdTOsz9raL"
      },
      "source": [
        "### Initial Setup"
      ]
    },
    {
      "cell_type": "code",
      "metadata": {
        "id": "U0pzwDXw9p0l"
      },
      "source": [
        "import os\n",
        "import math\n",
        "import glob\n",
        "import numpy as np\n",
        "import pandas as pd\n",
        "import tensorflow as tf\n",
        "import matplotlib.pyplot as plt\n",
        "from keras.models import Sequential\n",
        "from tensorflow.keras.optimizers import Adam\n",
        "from attention import Attention\n",
        "from keras.layers import Dense, Dropout\n",
        "from keras.layers import LSTM,TimeDistributed\n",
        "from sklearn.preprocessing import MinMaxScaler, StandardScaler\n",
        "from sklearn.metrics import mean_squared_error\n",
        "from sklearn.model_selection import train_test_split\n",
        "from keras.callbacks import EarlyStopping, ModelCheckpoint\n"
      ],
      "execution_count": null,
      "outputs": []
    },
    {
      "cell_type": "markdown",
      "metadata": {
        "id": "L8VX5KkQ_FX6"
      },
      "source": [
        "## Loading Combined Data 1979-2021\n",
        "\n",
        "Features:\n",
        "'wind_10m', 'specific_humidity', 'LW_down', 'SW_down', 'rainfall', 'snowfall' 'sst', 't2m', 'surface_pressure','sea_ice_extent'\n",
        "\n",
        "\n"
      ]
    },
    {
      "cell_type": "code",
      "metadata": {
        "id": "lMlcMP96tmrt"
      },
      "source": [
        "df = pd.read_csv('.../Arctic_domain_mean_monthly_1979_2021.csv')\n",
        "df = df.drop(['Date'],axis=1)\n",
        "data = np.array(df)"
      ],
      "execution_count": null,
      "outputs": []
    },
    {
      "cell_type": "markdown",
      "source": [
        "### Train a Linear Regression Model"
      ],
      "metadata": {
        "id": "ylQxEPC7QzH6"
      }
    },
    {
      "cell_type": "code",
      "source": [
        "from sklearn.linear_model import LinearRegression\n",
        "\n",
        "y = data[:,-1] #assigning last column to be target variable\n",
        "x = data[:,:] #dropping last column from features\n",
        "\n",
        "model = LinearRegression()\n",
        "model.fit(x, y)\n",
        "\n",
        "lr_data = model.predict(x)\n",
        "print(lr_data.shape)"
      ],
      "metadata": {
        "colab": {
          "base_uri": "https://localhost:8080/"
        },
        "id": "-RJ2Mqy_F1W5",
        "outputId": "a5ea4245-f3da-43c3-c51d-4363c20957e2"
      },
      "execution_count": null,
      "outputs": [
        {
          "output_type": "stream",
          "name": "stdout",
          "text": [
            "(512,)\n"
          ]
        }
      ]
    },
    {
      "cell_type": "code",
      "metadata": {
        "colab": {
          "base_uri": "https://localhost:8080/"
        },
        "id": "H0S-K8n0vOQk",
        "outputId": "f7b428c6-2ff6-4425-d93c-f42d5b9443a6"
      },
      "source": [
        "lr= lr_data.reshape(len(lr_data),1)\n",
        "print(lr.shape)"
      ],
      "execution_count": null,
      "outputs": [
        {
          "output_type": "stream",
          "name": "stdout",
          "text": [
            "(512, 1)\n"
          ]
        }
      ]
    },
    {
      "cell_type": "markdown",
      "metadata": {
        "id": "uXObfgS9bwox"
      },
      "source": [
        "Adding LR predictions as additional feature in LSTM dataset"
      ]
    },
    {
      "cell_type": "markdown",
      "metadata": {
        "id": "pKwmIvYU_nxx"
      },
      "source": [
        "#### Adding a Lag to Y values\n",
        "Here lag = 1 - 3 months\n"
      ]
    },
    {
      "cell_type": "code",
      "metadata": {
        "colab": {
          "base_uri": "https://localhost:8080/"
        },
        "id": "8IoHN4-0vAzm",
        "outputId": "8be76605-6940-4180-f239-84b6e89927d2"
      },
      "source": [
        "data = np.concatenate((data,lr),axis=1)\n",
        "print(data.shape)"
      ],
      "execution_count": null,
      "outputs": [
        {
          "output_type": "stream",
          "name": "stdout",
          "text": [
            "(512, 11)\n"
          ]
        }
      ]
    },
    {
      "cell_type": "code",
      "metadata": {
        "colab": {
          "base_uri": "https://localhost:8080/"
        },
        "id": "uES68xGKwgSy",
        "outputId": "96f51d8d-4543-420e-db15-847be8299014"
      },
      "source": [
        "#Adding a lag to monthly targets\n",
        "lag = 3\n",
        "#test_data = data[-2:,:,:]\n",
        "target = data[lag:,-1]\n",
        "data = data[:-lag,:]\n",
        "\n",
        "print(data.shape)\n",
        "print(target.shape)\n"
      ],
      "execution_count": null,
      "outputs": [
        {
          "output_type": "stream",
          "name": "stdout",
          "text": [
            "(509, 11)\n",
            "(509,)\n"
          ]
        }
      ]
    },
    {
      "cell_type": "markdown",
      "metadata": {
        "id": "lWyDrrpAQ74Q"
      },
      "source": [
        "### Train Validation Split"
      ]
    },
    {
      "cell_type": "markdown",
      "metadata": {
        "id": "rnbZ9jp0zv4e"
      },
      "source": [
        "LSTM network expects the input data to be provided with a specific array structure in the form of: [samples, time steps, features]. We load the csv file and only retain the feature and target columns. The features and target are stored in separate np arrays."
      ]
    },
    {
      "cell_type": "code",
      "metadata": {
        "colab": {
          "base_uri": "https://localhost:8080/"
        },
        "id": "BUVLJ8d7yWlc",
        "outputId": "535e7e9c-caa6-42be-d100-c416183afdb4"
      },
      "source": [
        "# Sequential split train:val data \n",
        "\n",
        "LEN_DATA = len(data) #total number of pixels\n",
        "\n",
        "NUM_TRAIN = LEN_DATA - (24+6) #reserve last 2.5 years for testing\n",
        "NUM_VALID = LEN_DATA - NUM_TRAIN\n",
        "\n",
        "print('LEN_DATA:',LEN_DATA)\n",
        "print('NUM_TRAIN:',NUM_TRAIN)\n",
        "print('NUM_VALID:',NUM_VALID)\n",
        "\n",
        "x_train = data[0:NUM_TRAIN]\n",
        "x_valid = data[NUM_TRAIN:]\n",
        "\n",
        "#split features and labels\n",
        "y_train=target[:NUM_TRAIN] #target is last column i-e sea-ice\n",
        "y_valid=target[NUM_TRAIN:] #target is last column i-e sea-ice"
      ],
      "execution_count": null,
      "outputs": [
        {
          "output_type": "stream",
          "name": "stdout",
          "text": [
            "LEN_DATA: 509\n",
            "NUM_TRAIN: 479\n",
            "NUM_VALID: 30\n"
          ]
        }
      ]
    },
    {
      "cell_type": "code",
      "metadata": {
        "colab": {
          "base_uri": "https://localhost:8080/"
        },
        "id": "fPxr5VW3ynVk",
        "outputId": "de2511b3-6c70-43a2-a60e-9e241ef3aa12"
      },
      "source": [
        "print('x_train.shape:',x_train.shape)\n",
        "print('y_train.shape:',y_train.shape)\n",
        "print('x_valid.shape:',x_valid.shape)\n",
        "print('y_valid.shape:',y_valid.shape)"
      ],
      "execution_count": null,
      "outputs": [
        {
          "output_type": "stream",
          "name": "stdout",
          "text": [
            "x_train.shape: (479, 11)\n",
            "y_train.shape: (479,)\n",
            "x_valid.shape: (30, 11)\n",
            "y_valid.shape: (30,)\n"
          ]
        }
      ]
    },
    {
      "cell_type": "markdown",
      "metadata": {
        "id": "8V9PlIs8OUUM"
      },
      "source": [
        "### Reshaping Input and Target Features"
      ]
    },
    {
      "cell_type": "code",
      "metadata": {
        "id": "v8qmWF4VHxrR"
      },
      "source": [
        "# convert an array of values into a dataset matrix\n",
        "def reshape_features(dataset, timesteps=1):\n",
        "    print(dataset.shape)\n",
        "    X = dataset.reshape((int(dataset.shape[0]/timesteps)), timesteps, dataset.shape[1])\n",
        "    return X"
      ],
      "execution_count": null,
      "outputs": []
    },
    {
      "cell_type": "markdown",
      "metadata": {
        "id": "-TOp3WLtJ6xJ"
      },
      "source": [
        "### Normalization\n"
      ]
    },
    {
      "cell_type": "code",
      "metadata": {
        "id": "X9nc-dTGJ8qr"
      },
      "source": [
        "# normalize the features\n",
        "\n",
        "scaler_f = StandardScaler()\n",
        "x_train = scaler_f.fit_transform(x_train) \n",
        "x_valid = scaler_f.transform(x_valid) \n",
        "#test_data = scaler_f.transform(forecast)\n",
        "\n",
        "scaler_l = StandardScaler()\n",
        "y_train = scaler_l.fit_transform(y_train.reshape(-1,1)) #reshaping to 2d for standard scaling\n",
        "y_valid = scaler_l.transform(y_valid.reshape(-1,1)) #reshaping to 2d for standard scaling\n"
      ],
      "execution_count": null,
      "outputs": []
    },
    {
      "cell_type": "code",
      "metadata": {
        "colab": {
          "base_uri": "https://localhost:8080/"
        },
        "id": "iwL_XadANsWH",
        "outputId": "5c22b9c4-bc8a-4a43-8730-3db2b5121172"
      },
      "source": [
        "#Reshaping data to 3D for modeling\n",
        "timesteps = 1\n",
        "x_train = reshape_features(x_train, timesteps) # reshaping to 3d for model\n",
        "x_valid = reshape_features(x_valid, timesteps) # reshaping to 3d for model"
      ],
      "execution_count": null,
      "outputs": [
        {
          "output_type": "stream",
          "name": "stdout",
          "text": [
            "(479, 11)\n",
            "(30, 11)\n"
          ]
        }
      ]
    },
    {
      "cell_type": "code",
      "metadata": {
        "colab": {
          "base_uri": "https://localhost:8080/"
        },
        "id": "lDxL_gE5Onx9",
        "outputId": "9fbe99b5-4d87-44a1-d899-203096001c8f"
      },
      "source": [
        "print('x_train.shape:',x_train.shape)\n",
        "print('y_train.shape:',y_train.shape)\n",
        "print('x_valid.shape:',x_valid.shape)\n",
        "print('y_valid.shape:',y_valid.shape)"
      ],
      "execution_count": null,
      "outputs": [
        {
          "output_type": "stream",
          "name": "stdout",
          "text": [
            "x_train.shape: (479, 1, 11)\n",
            "y_train.shape: (479, 1)\n",
            "x_valid.shape: (30, 1, 11)\n",
            "y_valid.shape: (30, 1)\n"
          ]
        }
      ]
    },
    {
      "cell_type": "markdown",
      "metadata": {
        "id": "HRaNlUDXr7Qt"
      },
      "source": [
        "## LSTM Network"
      ]
    },
    {
      "cell_type": "code",
      "metadata": {
        "colab": {
          "base_uri": "https://localhost:8080/"
        },
        "id": "psOiJCscr8wu",
        "outputId": "85f2a69e-1b09-47cf-8235-370f5874ffa0"
      },
      "source": [
        "import numpy as np\n",
        "from tensorflow.keras import Input\n",
        "from tensorflow.keras.layers import Dense, LSTM\n",
        "from tensorflow.keras.models import load_model, Model\n",
        "\n",
        "timestep = timesteps\n",
        "features = 11\n",
        "\n",
        "model_input = Input(shape=(timestep,features))\n",
        "x = LSTM(64, return_sequences=True)(model_input)\n",
        "x = Dropout(0.2)(x)\n",
        "x = LSTM(32, return_sequences=True)(x)\n",
        "x = LSTM(16, return_sequences=True)(x)\n",
        "x = Attention(32)(x)\n",
        "#x = Dropout(0.2)(x)\n",
        "x = Dense(32)(x)\n",
        "x = Dense(16)(x)\n",
        "x = Dense(1)(x)\n",
        "model = Model(model_input, x)\n",
        "\n",
        "print(model.summary())"
      ],
      "execution_count": null,
      "outputs": [
        {
          "output_type": "stream",
          "name": "stdout",
          "text": [
            "Model: \"model\"\n",
            "_________________________________________________________________\n",
            " Layer (type)                Output Shape              Param #   \n",
            "=================================================================\n",
            " input_1 (InputLayer)        [(None, 1, 11)]           0         \n",
            "                                                                 \n",
            " lstm (LSTM)                 (None, 1, 64)             19456     \n",
            "                                                                 \n",
            " dropout (Dropout)           (None, 1, 64)             0         \n",
            "                                                                 \n",
            " lstm_1 (LSTM)               (None, 1, 32)             12416     \n",
            "                                                                 \n",
            " lstm_2 (LSTM)               (None, 1, 16)             3136      \n",
            "                                                                 \n",
            " attention (Attention)       (None, 32)                1280      \n",
            "                                                                 \n",
            " dense (Dense)               (None, 32)                1056      \n",
            "                                                                 \n",
            " dense_1 (Dense)             (None, 16)                528       \n",
            "                                                                 \n",
            " dense_2 (Dense)             (None, 1)                 17        \n",
            "                                                                 \n",
            "=================================================================\n",
            "Total params: 37,889\n",
            "Trainable params: 37,889\n",
            "Non-trainable params: 0\n",
            "_________________________________________________________________\n",
            "None\n"
          ]
        }
      ]
    },
    {
      "cell_type": "markdown",
      "metadata": {
        "id": "qrWXbk9DsTJ1"
      },
      "source": [
        "### Compiling the Network and Fitting Model"
      ]
    },
    {
      "cell_type": "code",
      "metadata": {
        "id": "JAo2H2JssXjN"
      },
      "source": [
        "#Compiling the network\n",
        "model.compile(loss='mean_squared_error', optimizer='adam')\n",
        "checkpoint_path='./testmodel.h5'\n",
        "keras_callbacks   = [\n",
        "      EarlyStopping(monitor='val_loss', patience=60, mode='min', min_delta=0.001),\n",
        "      ModelCheckpoint(checkpoint_path, monitor='val_loss', save_best_only=True, mode='min')\n",
        "]\n"
      ],
      "execution_count": null,
      "outputs": []
    },
    {
      "cell_type": "code",
      "metadata": {
        "id": "vxresQUSTYgq"
      },
      "source": [
        "history=model.fit(x_train, y_train, epochs=500, batch_size=12, verbose=2, validation_split =0.33, shuffle=True,callbacks=keras_callbacks)"
      ],
      "execution_count": null,
      "outputs": []
    },
    {
      "cell_type": "markdown",
      "metadata": {
        "id": "LvmYA01IaEdB"
      },
      "source": [
        "### Model Predictions"
      ]
    },
    {
      "cell_type": "code",
      "metadata": {
        "id": "CaHjsvNLaD5I"
      },
      "source": [
        "trainPred = model.predict(x_train)\n",
        "testPred = model.predict(x_valid)"
      ],
      "execution_count": null,
      "outputs": []
    },
    {
      "cell_type": "code",
      "metadata": {
        "colab": {
          "base_uri": "https://localhost:8080/"
        },
        "id": "2rbm4HV3PYRs",
        "outputId": "a872dded-b341-44ff-e220-b49fc22b9179"
      },
      "source": [
        "print(testPred.shape)\n",
        "print(trainPred.shape)"
      ],
      "execution_count": null,
      "outputs": [
        {
          "output_type": "stream",
          "name": "stdout",
          "text": [
            "(30, 1)\n",
            "(479, 1)\n"
          ]
        }
      ]
    },
    {
      "cell_type": "code",
      "metadata": {
        "id": "nBgDrWcGPnZj"
      },
      "source": [
        "# invert scaling for forecasted values \n",
        "\n",
        "inv_testPred = scaler_l.inverse_transform(testPred)\n",
        "print(inv_testPred[1])\n",
        "\n",
        "# invert scaling for actual values\n",
        "\n",
        "inv_y_valid = scaler_l.inverse_transform(y_valid)\n",
        "print(inv_y_valid[1])\n"
      ],
      "execution_count": null,
      "outputs": []
    },
    {
      "cell_type": "code",
      "metadata": {
        "id": "oNZOX9p8Btxw"
      },
      "source": [
        "# calculate RMSE\n",
        "from sklearn.metrics import mean_squared_error\n",
        "from math import sqrt\n",
        "\n",
        "rmse = sqrt(mean_squared_error(inv_y_valid, inv_testPred))\n",
        "print('Test RMSE: %.3f' % rmse)"
      ],
      "execution_count": null,
      "outputs": []
    },
    {
      "cell_type": "code",
      "metadata": {
        "id": "23_bcO2qIpdn"
      },
      "source": [
        "# calculate Normalized RMSE\n",
        "y_max = inv_y_valid.max()\n",
        "y_min = inv_y_valid.min()\n",
        "nrmse = rmse /(inv_y_valid.mean()) \n",
        "print('Test NRMSE:', nrmse)"
      ],
      "execution_count": null,
      "outputs": []
    },
    {
      "cell_type": "code",
      "metadata": {
        "id": "DK5wa1PUzvQv"
      },
      "source": [
        "# calculate R-square\n",
        "from sklearn.metrics import r2_score\n",
        "from math import sqrt\n",
        "\n",
        "r_sq = r2_score(inv_y_valid, inv_testPred)\n",
        "print('Test R_Square: %.3f' % r_sq)"
      ],
      "execution_count": null,
      "outputs": []
    },
    {
      "cell_type": "markdown",
      "metadata": {
        "id": "-6q16qTmaZ8N"
      },
      "source": [
        "### Plotting"
      ]
    },
    {
      "cell_type": "code",
      "metadata": {
        "id": "5P2TOQqU7Wry"
      },
      "source": [
        "from matplotlib import pyplot\n",
        "\n",
        "pyplot.plot(history.history['loss'], label='train')\n",
        "pyplot.plot(history.history['val_loss'], label='test')\n",
        "pyplot.legend()\n",
        "pyplot.show()"
      ],
      "execution_count": null,
      "outputs": []
    },
    {
      "cell_type": "code",
      "metadata": {
        "id": "mdq_2QDSal-d"
      },
      "source": [
        "fig, ax = plt.subplots()\n",
        "ax.scatter(y_train,trainPred)\n",
        "ax.plot([y_train.min(), y_train.max()], [y_train.min(), y_train.max()], 'k--', lw=4)\n",
        "ax.set_xlabel('observed')\n",
        "ax.set_ylabel('predicted')\n",
        "plt.show()"
      ],
      "execution_count": null,
      "outputs": []
    },
    {
      "cell_type": "code",
      "metadata": {
        "id": "gixcJfYHgvyP"
      },
      "source": [
        "fig, ax = plt.subplots()\n",
        "ax.scatter(inv_y_valid,inv_testPred) #[:,:,6]\n",
        "ax.plot([inv_y_valid.min(), inv_y_valid.max()], [inv_y_valid.min(), inv_y_valid.max()], 'k--', lw=4)\n",
        "ax.set_xlabel('observed')\n",
        "ax.set_ylabel('predicted')\n",
        "plt.show()"
      ],
      "execution_count": null,
      "outputs": []
    },
    {
      "cell_type": "code",
      "metadata": {
        "id": "zJ9u67hnUCfU"
      },
      "source": [
        "trainPred = np.transpose(trainPred.flatten())\n",
        "print(trainPred.shape)\n",
        "print(y_train.shape)"
      ],
      "execution_count": null,
      "outputs": []
    },
    {
      "cell_type": "code",
      "metadata": {
        "id": "gQNoyQLlhIBV"
      },
      "source": [
        "from matplotlib import pyplot\n",
        "\n",
        "pyplot.plot(trainPred)\n",
        "pyplot.plot(y_train)\n",
        "pyplot.show()"
      ],
      "execution_count": null,
      "outputs": []
    },
    {
      "cell_type": "code",
      "metadata": {
        "id": "Mmgl59KcPYgO"
      },
      "source": [
        "from datetime import datetime\n",
        "lead_time = lag\n",
        "\n",
        "time_range=pd.date_range(start=\"2019-01-01\",end=\"2021-07-31\",freq='m')\n",
        "fig, ax= plt.subplots(figsize=(12, 4))\n",
        "\n",
        "plt.plot(inv_y_valid/(10**6), color = 'red', label = 'Observed sea ice')\n",
        "plt.plot(inv_testPred/(10**6), color = 'blue', label = 'LR_LSTM predictions')\n",
        "#plt.title('Sea ice prediction (Lead time:'+str(lead_time)+' month)',fontsize = 15)\n",
        "plt.xlabel('Month',fontsize = 10)\n",
        "plt.ylabel('Sea ice extent ($10^6$ $Km^2$)',fontsize = 15)\n",
        "#ax.grid(False)\n",
        "#ax.set_facecolor('white')\n",
        "time_idx=np.arange(0,30,3)\n",
        "date_str=np.array(time_range[time_idx].strftime('%Y-%m'))\n",
        "ax.set_xticks(time_idx)\n",
        "ax.set_xticklabels(date_str)\n",
        "plt.legend()\n",
        "#plt.show()\n",
        "fig.savefig('Time_series_sea_ice_prediction_attention_lead_time_'+str(lead_time)+'.png')"
      ],
      "execution_count": null,
      "outputs": []
    }
  ]
}